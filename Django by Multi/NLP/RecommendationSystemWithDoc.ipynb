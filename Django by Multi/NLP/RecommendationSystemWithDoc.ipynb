{
  "nbformat": 4,
  "nbformat_minor": 0,
  "metadata": {
    "colab": {
      "name": "RecommendationSystemWithDoc.ipynb",
      "provenance": [],
      "collapsed_sections": [],
      "mount_file_id": "18XCRPjr7SCqBMtpheLbSt-bMMO9Zl8hj",
      "authorship_tag": "ABX9TyPqkXf671c4bmRupm2vwIHJ",
      "include_colab_link": true
    },
    "kernelspec": {
      "name": "python3",
      "display_name": "Python 3"
    },
    "language_info": {
      "name": "python"
    }
  },
  "cells": [
    {
      "cell_type": "markdown",
      "metadata": {
        "id": "view-in-github",
        "colab_type": "text"
      },
      "source": [
        "<a href=\"https://colab.research.google.com/github/ginttone/summary/blob/master/NLP/RecommendationSystemWithDoc.ipynb\" target=\"_parent\"><img src=\"https://colab.research.google.com/assets/colab-badge.svg\" alt=\"Open In Colab\"/></a>"
      ]
    },
    {
      "cell_type": "markdown",
      "metadata": {
        "id": "vkiCNiJ0qooU"
      },
      "source": [
        "# 책 추천 서비스"
      ]
    },
    {
      "cell_type": "code",
      "metadata": {
        "colab": {
          "base_uri": "https://localhost:8080/"
        },
        "id": "YjP7mplmpaDp",
        "outputId": "67e3cb9f-480d-471b-b309-9a9d36c8b1f3"
      },
      "source": [
        "!ls ./drive/MyDrive/Multi_test_deeplearning/data.csv"
      ],
      "execution_count": 1,
      "outputs": [
        {
          "output_type": "stream",
          "text": [
            "./drive/MyDrive/Multi_test_deeplearning/data.csv\n"
          ],
          "name": "stdout"
        }
      ]
    },
    {
      "cell_type": "code",
      "metadata": {
        "id": "xzD7CqOoqHHo"
      },
      "source": [
        "import pandas as pd"
      ],
      "execution_count": 2,
      "outputs": []
    },
    {
      "cell_type": "code",
      "metadata": {
        "id": "nb7LUQ92qK4G"
      },
      "source": [
        "df_data = pd.read_csv('./drive/MyDrive/Multi_test_deeplearning/data.csv')"
      ],
      "execution_count": 8,
      "outputs": []
    },
    {
      "cell_type": "code",
      "metadata": {
        "colab": {
          "base_uri": "https://localhost:8080/",
          "height": 441
        },
        "id": "FuVwkeMZqO9e",
        "outputId": "bdd96a21-699f-45eb-8450-0ae7570e6a40"
      },
      "source": [
        "df_data.head(4)"
      ],
      "execution_count": 9,
      "outputs": [
        {
          "output_type": "execute_result",
          "data": {
            "text/html": [
              "<div>\n",
              "<style scoped>\n",
              "    .dataframe tbody tr th:only-of-type {\n",
              "        vertical-align: middle;\n",
              "    }\n",
              "\n",
              "    .dataframe tbody tr th {\n",
              "        vertical-align: top;\n",
              "    }\n",
              "\n",
              "    .dataframe thead th {\n",
              "        text-align: right;\n",
              "    }\n",
              "</style>\n",
              "<table border=\"1\" class=\"dataframe\">\n",
              "  <thead>\n",
              "    <tr style=\"text-align: right;\">\n",
              "      <th></th>\n",
              "      <th>Unnamed: 0</th>\n",
              "      <th>Desc</th>\n",
              "      <th>Unnamed: 0.1</th>\n",
              "      <th>author</th>\n",
              "      <th>genre</th>\n",
              "      <th>image_link</th>\n",
              "      <th>rating</th>\n",
              "      <th>title</th>\n",
              "    </tr>\n",
              "  </thead>\n",
              "  <tbody>\n",
              "    <tr>\n",
              "      <th>0</th>\n",
              "      <td>0</td>\n",
              "      <td>We know that power is shifting: From West to E...</td>\n",
              "      <td>0.0</td>\n",
              "      <td>Moisés Naím</td>\n",
              "      <td>Business</td>\n",
              "      <td>https://i.gr-assets.com/images/S/compressed.ph...</td>\n",
              "      <td>3.63</td>\n",
              "      <td>The End of Power: From Boardrooms to Battlefie...</td>\n",
              "    </tr>\n",
              "    <tr>\n",
              "      <th>1</th>\n",
              "      <td>1</td>\n",
              "      <td>Following the success of The Accidental Billio...</td>\n",
              "      <td>1.0</td>\n",
              "      <td>Blake J. Harris</td>\n",
              "      <td>Business</td>\n",
              "      <td>https://i.gr-assets.com/images/S/compressed.ph...</td>\n",
              "      <td>3.94</td>\n",
              "      <td>Console Wars: Sega, Nintendo, and the Battle t...</td>\n",
              "    </tr>\n",
              "    <tr>\n",
              "      <th>2</th>\n",
              "      <td>2</td>\n",
              "      <td>How to tap the power of social software and ne...</td>\n",
              "      <td>2.0</td>\n",
              "      <td>Chris Brogan</td>\n",
              "      <td>Business</td>\n",
              "      <td>https://i.gr-assets.com/images/S/compressed.ph...</td>\n",
              "      <td>3.78</td>\n",
              "      <td>Trust Agents: Using the Web to Build Influence...</td>\n",
              "    </tr>\n",
              "    <tr>\n",
              "      <th>3</th>\n",
              "      <td>3</td>\n",
              "      <td>William J. Bernstein is an American financial ...</td>\n",
              "      <td>3.0</td>\n",
              "      <td>William J. Bernstein</td>\n",
              "      <td>Business</td>\n",
              "      <td>https://i.gr-assets.com/images/S/compressed.ph...</td>\n",
              "      <td>4.20</td>\n",
              "      <td>The Four Pillars of Investing</td>\n",
              "    </tr>\n",
              "  </tbody>\n",
              "</table>\n",
              "</div>"
            ],
            "text/plain": [
              "   Unnamed: 0  ...                                              title\n",
              "0           0  ...  The End of Power: From Boardrooms to Battlefie...\n",
              "1           1  ...  Console Wars: Sega, Nintendo, and the Battle t...\n",
              "2           2  ...  Trust Agents: Using the Web to Build Influence...\n",
              "3           3  ...                      The Four Pillars of Investing\n",
              "\n",
              "[4 rows x 8 columns]"
            ]
          },
          "metadata": {},
          "execution_count": 9
        }
      ]
    },
    {
      "cell_type": "code",
      "metadata": {
        "colab": {
          "base_uri": "https://localhost:8080/"
        },
        "id": "nO6bV-GAqRWc",
        "outputId": "64a441a0-efc9-43a6-80fa-4bb77b0d2a9d"
      },
      "source": [
        "df_data.info()"
      ],
      "execution_count": 10,
      "outputs": [
        {
          "output_type": "stream",
          "text": [
            "<class 'pandas.core.frame.DataFrame'>\n",
            "RangeIndex: 2382 entries, 0 to 2381\n",
            "Data columns (total 8 columns):\n",
            " #   Column        Non-Null Count  Dtype  \n",
            "---  ------        --------------  -----  \n",
            " 0   Unnamed: 0    2382 non-null   int64  \n",
            " 1   Desc          2382 non-null   object \n",
            " 2   Unnamed: 0.1  1185 non-null   float64\n",
            " 3   author        2382 non-null   object \n",
            " 4   genre         2382 non-null   object \n",
            " 5   image_link    2382 non-null   object \n",
            " 6   rating        2382 non-null   float64\n",
            " 7   title         2382 non-null   object \n",
            "dtypes: float64(2), int64(1), object(5)\n",
            "memory usage: 149.0+ KB\n"
          ],
          "name": "stdout"
        }
      ]
    },
    {
      "cell_type": "markdown",
      "metadata": {
        "id": "811-kvtfr3Jm"
      },
      "source": [
        "```\n",
        " 1   Desc          2382 non-null   object \n",
        " 7   title         2382 non-null   object\n",
        "```\n",
        "\n",
        "데이터 길이 같아 불용어처리 외 전처리 하지 않아도 됨"
      ]
    },
    {
      "cell_type": "code",
      "metadata": {
        "colab": {
          "base_uri": "https://localhost:8080/"
        },
        "id": "T0LDLEN6rq7F",
        "outputId": "2d654160-eeb8-434f-b360-cfcf093f4315"
      },
      "source": [
        "df_data['Desc']"
      ],
      "execution_count": 11,
      "outputs": [
        {
          "output_type": "execute_result",
          "data": {
            "text/plain": [
              "0       We know that power is shifting: From West to E...\n",
              "1       Following the success of The Accidental Billio...\n",
              "2       How to tap the power of social software and ne...\n",
              "3       William J. Bernstein is an American financial ...\n",
              "4       Amazing book. And I joined Steve Jobs and many...\n",
              "                              ...                        \n",
              "2377    Ralph Roberts, a sus setenta años y tras la mu...\n",
              "2378    Murder at the Vicarage marks the debut of Agat...\n",
              "2379    In 1951 John Wyndham published his novel The D...\n",
              "2380    This now classic book revealed Flannery O'Conn...\n",
              "2381    Imbued on every page with Frank McCourt's asto...\n",
              "Name: Desc, Length: 2382, dtype: object"
            ]
          },
          "metadata": {},
          "execution_count": 11
        }
      ]
    },
    {
      "cell_type": "markdown",
      "metadata": {
        "id": "p6t0Sm-AsQSl"
      },
      "source": [
        "## Tokenize \n",
        "map = apply 같은 기능"
      ]
    },
    {
      "cell_type": "markdown",
      "metadata": {
        "id": "U9M-hqNss1Dl"
      },
      "source": [
        "RegexpTokenizer : [Regular Expression](https://regexr.com/) Tokenizer\n",
        "내가 지정한 글자나 문자대로 짤라낼 수 있다.\n",
        "\n",
        "단어의 인접행렬을 알아내기 위해 하는 작업\n"
      ]
    },
    {
      "cell_type": "code",
      "metadata": {
        "id": "T_uNlXLhtDdd"
      },
      "source": [
        "from nltk.tokenize import RegexpTokenizer"
      ],
      "execution_count": 14,
      "outputs": []
    },
    {
      "cell_type": "code",
      "metadata": {
        "id": "kNy6H-avxTJB"
      },
      "source": [
        "text01 = ' We know that power is shifting: From West to E'\n",
        " \n",
        "def remove_punctuation(text):\n",
        "  tokenizer = RegexpTokenizer('[a-zA-Z]+')  \n",
        "  text_list = tokenizer.tokenize(text)\n",
        "  # print(type(text_list),text_list)\n",
        "  result = ' '.join(text_list)\n",
        "  # print(type(result),result)\n",
        "  return result"
      ],
      "execution_count": 27,
      "outputs": []
    },
    {
      "cell_type": "code",
      "metadata": {
        "colab": {
          "base_uri": "https://localhost:8080/",
          "height": 70
        },
        "id": "09H-2UCxxqyi",
        "outputId": "28267301-a555-42df-c851-b77e16ad2a47"
      },
      "source": [
        " remove_punctuation(text01)"
      ],
      "execution_count": 28,
      "outputs": [
        {
          "output_type": "stream",
          "text": [
            "<class 'list'> ['We', 'know', 'that', 'power', 'is', 'shifting', 'From', 'West', 'to', 'E']\n",
            "<class 'str'> We know that power is shifting From West to E\n"
          ],
          "name": "stdout"
        },
        {
          "output_type": "execute_result",
          "data": {
            "application/vnd.google.colaboratory.intrinsic+json": {
              "type": "string"
            },
            "text/plain": [
              "'We know that power is shifting From West to E'"
            ]
          },
          "metadata": {},
          "execution_count": 28
        }
      ]
    },
    {
      "cell_type": "markdown",
      "metadata": {
        "id": "UK3nWK5GxhLZ"
      },
      "source": [
        "apply 사용은 이와 같다\n",
        "```\n",
        "  for text01 in df_data['Desc']\n",
        " \n",
        "  remove_punctuation(text01)\n",
        "```"
      ]
    },
    {
      "cell_type": "code",
      "metadata": {
        "id": "Y1jaX3qhsMNl"
      },
      "source": [
        "df_data['cleaned'] = df_data['Desc'].apply(remove_punctuation)"
      ],
      "execution_count": null,
      "outputs": []
    },
    {
      "cell_type": "code",
      "metadata": {
        "colab": {
          "base_uri": "https://localhost:8080/"
        },
        "id": "V6u80ZIIx-Qi",
        "outputId": "d9935c9a-a728-46d1-b995-075027a65dba"
      },
      "source": [
        "df_data['cleaned'].head(5)"
      ],
      "execution_count": 33,
      "outputs": [
        {
          "output_type": "execute_result",
          "data": {
            "text/plain": [
              "0    We know that power is shifting From West to Ea...\n",
              "1    Following the success of The Accidental Billio...\n",
              "2    How to tap the power of social software and ne...\n",
              "3    William J Bernstein is an American financial t...\n",
              "4    Amazing book And I joined Steve Jobs and many ...\n",
              "Name: cleaned, dtype: object"
            ]
          },
          "metadata": {},
          "execution_count": 33
        }
      ]
    },
    {
      "cell_type": "code",
      "metadata": {
        "colab": {
          "base_uri": "https://localhost:8080/"
        },
        "id": "EpvZnZ1oxUt9",
        "outputId": "5136ed53-efdb-4505-aa89-b9a7b81ef314"
      },
      "source": [
        "df_data.columns"
      ],
      "execution_count": 34,
      "outputs": [
        {
          "output_type": "execute_result",
          "data": {
            "text/plain": [
              "Index(['Unnamed: 0', 'Desc', 'Unnamed: 0.1', 'author', 'genre', 'image_link',\n",
              "       'rating', 'title', 'cleaned'],\n",
              "      dtype='object')"
            ]
          },
          "metadata": {},
          "execution_count": 34
        }
      ]
    },
    {
      "cell_type": "code",
      "metadata": {
        "colab": {
          "base_uri": "https://localhost:8080/"
        },
        "id": "vffJv315yIxo",
        "outputId": "7f3b3be4-166f-415c-97ef-a197ba38e251"
      },
      "source": [
        "df_data.info()"
      ],
      "execution_count": 35,
      "outputs": [
        {
          "output_type": "stream",
          "text": [
            "<class 'pandas.core.frame.DataFrame'>\n",
            "RangeIndex: 2382 entries, 0 to 2381\n",
            "Data columns (total 9 columns):\n",
            " #   Column        Non-Null Count  Dtype  \n",
            "---  ------        --------------  -----  \n",
            " 0   Unnamed: 0    2382 non-null   int64  \n",
            " 1   Desc          2382 non-null   object \n",
            " 2   Unnamed: 0.1  1185 non-null   float64\n",
            " 3   author        2382 non-null   object \n",
            " 4   genre         2382 non-null   object \n",
            " 5   image_link    2382 non-null   object \n",
            " 6   rating        2382 non-null   float64\n",
            " 7   title         2382 non-null   object \n",
            " 8   cleaned       2382 non-null   object \n",
            "dtypes: float64(2), int64(1), object(6)\n",
            "memory usage: 167.6+ KB\n"
          ],
          "name": "stdout"
        }
      ]
    },
    {
      "cell_type": "markdown",
      "metadata": {
        "id": "DTu-LnNG1qP1"
      },
      "source": [
        "## Pre-Trained\n",
        "매번 문장 들어올때마다 워드투백을 돌릴수 없다. 그래서 생각해 낸 것이 Pre-trained (누군가가 엄청많은 데이터를 Word2Vec으로 만들어둔것 불러다 쓰기)으로 사용한다.\n",
        "\n",
        "\n"
      ]
    },
    {
      "cell_type": "code",
      "metadata": {
        "colab": {
          "base_uri": "https://localhost:8080/"
        },
        "id": "0DEwqaUbyPCB",
        "outputId": "444823c5-aa59-4dea-cbef-403ef8ddef4b"
      },
      "source": [
        "# 구글뉴스 위키피디아 - > Word2Vec 으로 만들어둔 자료\n",
        "\n",
        "!curl -O https://s3.amazonaws.com/dl4j-distribution/GoogleNews-vectors-negative300.bin.gz"
      ],
      "execution_count": 36,
      "outputs": [
        {
          "output_type": "stream",
          "text": [
            "  % Total    % Received % Xferd  Average Speed   Time    Time     Time  Current\n",
            "                                 Dload  Upload   Total   Spent    Left  Speed\n",
            "100 1570M  100 1570M    0     0  94.3M      0  0:00:16  0:00:16 --:--:-- 95.3M\n"
          ],
          "name": "stdout"
        }
      ]
    },
    {
      "cell_type": "code",
      "metadata": {
        "id": "rOvSwQNi30Qw"
      },
      "source": [
        "from gensim.models import Word2Vec"
      ],
      "execution_count": 38,
      "outputs": []
    },
    {
      "cell_type": "markdown",
      "metadata": {
        "id": "ys5U-tAt8x5e"
      },
      "source": [
        "```\n",
        "word2vec_model = Word2Vec(min_count=2, workers=-1, size=300)\n",
        "word2vec_model.build_vocab(df_data['cleaned']) # need to modify\n",
        "word2vec_model.intersect_word2vec_format('GoogleNews-vectors-negative300.bin.gz',lockf=1.0, binary=True)\n",
        "word2vec_model.train(df_data['cleaned'],total_examples=word2vec_model.corpus_count, epochs=15)\n",
        "word2vec_model.wv.vocab\n",
        "```"
      ]
    },
    {
      "cell_type": "code",
      "metadata": {
        "id": "GZ51_vDE9BCi"
      },
      "source": [
        "corpus = []\n",
        "for words in df_data['cleaned']:\n",
        "  corpus.append(words.split())\n",
        "  print(type(corpus),corpus[4:8])"
      ],
      "execution_count": null,
      "outputs": []
    },
    {
      "cell_type": "code",
      "metadata": {
        "id": "7ml45_484uoo"
      },
      "source": [
        "word2vec_model = Word2Vec(min_count=2, workers=-1, size=300)"
      ],
      "execution_count": 48,
      "outputs": []
    },
    {
      "cell_type": "code",
      "metadata": {
        "id": "S62yrpCH5HZY"
      },
      "source": [
        "word2vec_model.build_vocab(corpus) "
      ],
      "execution_count": 49,
      "outputs": []
    },
    {
      "cell_type": "code",
      "metadata": {
        "id": "eHl0XXZu6dWL"
      },
      "source": [
        "word2vec_model.intersect_word2vec_format('GoogleNews-vectors-negative300.bin.gz',lockf=1.0, binary=True)"
      ],
      "execution_count": 50,
      "outputs": []
    },
    {
      "cell_type": "code",
      "metadata": {
        "colab": {
          "base_uri": "https://localhost:8080/"
        },
        "id": "EhAw1Lsx62H9",
        "outputId": "271bf8f4-608e-40ed-b83a-712871fd3fca"
      },
      "source": [
        "word2vec_model.train(corpus,total_examples=word2vec_model.corpus_count, epochs=15)"
      ],
      "execution_count": 51,
      "outputs": [
        {
          "output_type": "execute_result",
          "data": {
            "text/plain": [
              "(0, 0)"
            ]
          },
          "metadata": {},
          "execution_count": 51
        }
      ]
    },
    {
      "cell_type": "markdown",
      "metadata": {
        "id": "eCCA-tGT72MQ"
      },
      "source": [
        "각 단어마다 gensim으로 한 Keyedvectors 가 들어간 것을 볼수있다"
      ]
    },
    {
      "cell_type": "code",
      "metadata": {
        "id": "L1RWpmek7lnw"
      },
      "source": [
        "word2vec_model.wv.vocab"
      ],
      "execution_count": null,
      "outputs": []
    },
    {
      "cell_type": "markdown",
      "metadata": {
        "id": "edBDs2ZW8iq1"
      },
      "source": [
        "벡터라이제이션 교육시킨 기준으로 백터화 (수치화) \n",
        "\n",
        "300차원 워드투백으로 만들어져있다. \n",
        "\n",
        "수치화된 것을 합산(사이즈 같을 경우) 후 평균구함\n",
        "```\n",
        "for line in df_data['cleaned'][2:3] : #1개만 \n",
        "  # print(line)\n",
        "  doc2vec = 0\n",
        "  for word in line.split():\n",
        "    # print(word) \n",
        "    if word in word2vec_model.wv.vocab:\n",
        "      # print(word2vec_model[word]) 워드투백에 저장되있는 숫자가 나옴\n",
        "      doc2vec = doc2vec + word2vec_model[word] #합산\n",
        "      \n",
        "  doc2vec = doc2vec/len(doc2vec)# 평균\n",
        "  print(type(doc2vec), doc2vec)\n",
        "```\n"
      ]
    },
    {
      "cell_type": "code",
      "metadata": {
        "colab": {
          "base_uri": "https://localhost:8080/"
        },
        "id": "fqugIEaq70lZ",
        "outputId": "82e3053d-2d48-4dc8-fa2f-18219757fc7f"
      },
      "source": [
        "doc_embedding_list = list()\n",
        "for line in df_data['cleaned']:\n",
        "  doc2vec = None\n",
        "  for word in line.split():\n",
        "    if word in word2vec_model.wv.vocab:\n",
        "      if doc2vec is None:\n",
        "        doc2vec = word2vec_model[word] \n",
        "      else :\n",
        "        doc2vec = doc2vec + word2vec_model[word] \n",
        "\n",
        "  if doc2vec is not None:\n",
        "    doc2vec = doc2vec / len(doc2vec)\n",
        "    doc_embedding_list.append(doc2vec)\n",
        "\n",
        "print(doc_embedding_list)"
      ],
      "execution_count": 72,
      "outputs": [
        {
          "output_type": "stream",
          "text": [
            "/usr/local/lib/python3.7/dist-packages/ipykernel_launcher.py:7: DeprecationWarning: Call to deprecated `__getitem__` (Method will be removed in 4.0.0, use self.wv.__getitem__() instead).\n",
            "  import sys\n",
            "/usr/local/lib/python3.7/dist-packages/ipykernel_launcher.py:9: DeprecationWarning: Call to deprecated `__getitem__` (Method will be removed in 4.0.0, use self.wv.__getitem__() instead).\n",
            "  if __name__ == '__main__':\n",
            "IOPub data rate exceeded.\n",
            "The notebook server will temporarily stop sending output\n",
            "to the client in order to avoid crashing it.\n",
            "To change this limit, set the config variable\n",
            "`--NotebookApp.iopub_data_rate_limit`.\n",
            "\n",
            "Current values:\n",
            "NotebookApp.iopub_data_rate_limit=1000000.0 (bytes/sec)\n",
            "NotebookApp.rate_limit_window=3.0 (secs)\n",
            "\n"
          ],
          "name": "stderr"
        }
      ]
    },
    {
      "cell_type": "code",
      "metadata": {
        "id": "HoinW71q_38B"
      },
      "source": [
        "type(doc_embedding_list),doc_embedding_list[3]"
      ],
      "execution_count": null,
      "outputs": []
    },
    {
      "cell_type": "markdown",
      "metadata": {
        "id": "3mALbPT1EzrA"
      },
      "source": [
        "```\n",
        "(list,\n",
        " array([ 4.85460274e-03,  6.44234102e-03,  2.02899147e-03,  7.35819340e-03,\n",
        "        -1.05098961e-03, -4.15791292e-03,  4.43558767e-03, -1.21494001e-02,\n",
        "         1.21053243e-02, -1.25548846e-04, -5.31814434e-03, -7.44484272e-03,\n",
        "         ...\n",
        "```"
      ]
    },
    {
      "cell_type": "markdown",
      "metadata": {
        "id": "P2wZcZlgFCoo"
      },
      "source": [
        "## Cosin_Similarity metrix\n",
        "인접행렬"
      ]
    },
    {
      "cell_type": "code",
      "metadata": {
        "id": "wvduiDb_Esqr"
      },
      "source": [
        "from sklearn.metrics.pairwise import cosine_similarity"
      ],
      "execution_count": 75,
      "outputs": []
    },
    {
      "cell_type": "code",
      "metadata": {
        "colab": {
          "base_uri": "https://localhost:8080/"
        },
        "id": "amSb90FnIEw5",
        "outputId": "f304357f-c620-407e-d547-8456d84807bf"
      },
      "source": [
        "cosine_sim= cosine_similarity(doc_embedding_list, doc_embedding_list)\n",
        "type(cosine_sim),cosine_sim.shape"
      ],
      "execution_count": 76,
      "outputs": [
        {
          "output_type": "execute_result",
          "data": {
            "text/plain": [
              "(numpy.ndarray, (2381, 2381))"
            ]
          },
          "metadata": {},
          "execution_count": 76
        }
      ]
    },
    {
      "cell_type": "code",
      "metadata": {
        "colab": {
          "base_uri": "https://localhost:8080/"
        },
        "id": "APLWh7NWIRyq",
        "outputId": "2996fddf-e155-484d-81a2-c4bc3e77bbab"
      },
      "source": [
        "cosine_sim[3]"
      ],
      "execution_count": 77,
      "outputs": [
        {
          "output_type": "execute_result",
          "data": {
            "text/plain": [
              "array([0.7652141 , 0.7288712 , 0.7382817 , ..., 0.7206474 , 0.67123234,\n",
              "       0.75328106], dtype=float32)"
            ]
          },
          "metadata": {},
          "execution_count": 77
        }
      ]
    },
    {
      "cell_type": "markdown",
      "metadata": {
        "id": "YuWxxOdaIwPi"
      },
      "source": [
        "## Predict"
      ]
    },
    {
      "cell_type": "code",
      "metadata": {
        "id": "5eW9x5qpIU7O"
      },
      "source": [
        "title = 'The Da Vinci Code'\n",
        "title = 'The Four Pilars of investing' #3"
      ],
      "execution_count": 78,
      "outputs": []
    },
    {
      "cell_type": "markdown",
      "metadata": {
        "id": "id8IFwYIJd11"
      },
      "source": [
        "3(4번째) 각각 해당되는 내용을 리스트로 나오게 함"
      ]
    },
    {
      "cell_type": "code",
      "metadata": {
        "id": "kprg8h9AJVUQ"
      },
      "source": [
        "idx = 3\n",
        "sim_scores = list(enumerate(cosine_sim[3]))\n",
        "print(sim_scores)"
      ],
      "execution_count": null,
      "outputs": []
    },
    {
      "cell_type": "markdown",
      "metadata": {
        "id": "nGD49w0JKxcf"
      },
      "source": [
        "선택한 3(4번쨰) 책의 근사치 리스트들이 나오게됨"
      ]
    },
    {
      "cell_type": "code",
      "metadata": {
        "id": "Juh9xg1uKjBJ"
      },
      "source": [
        "sim_scores_list = sorted(sim_scores,key=lambda x:x[1], reverse=True)"
      ],
      "execution_count": 82,
      "outputs": []
    },
    {
      "cell_type": "code",
      "metadata": {
        "colab": {
          "base_uri": "https://localhost:8080/"
        },
        "id": "s8Omi83gKmVq",
        "outputId": "ff44a04f-276d-4887-c15c-7bfabf4723e6"
      },
      "source": [
        "# sim_scores_list[0:6] 검색 3(4번쨰)자신 포함\n",
        "sim_scores_list[1:6]"
      ],
      "execution_count": 85,
      "outputs": [
        {
          "output_type": "execute_result",
          "data": {
            "text/plain": [
              "[(6, 0.8593486),\n",
              " (225, 0.8524401),\n",
              " (537, 0.8478668),\n",
              " (606, 0.8467616),\n",
              " (331, 0.84570736)]"
            ]
          },
          "metadata": {},
          "execution_count": 85
        }
      ]
    },
    {
      "cell_type": "code",
      "metadata": {
        "colab": {
          "base_uri": "https://localhost:8080/",
          "height": 890
        },
        "id": "pq8MCjk1LBH8",
        "outputId": "7ca77c80-bea2-4a8b-e13d-ad28511480f4"
      },
      "source": [
        "df_data.head(7)"
      ],
      "execution_count": 86,
      "outputs": [
        {
          "output_type": "execute_result",
          "data": {
            "text/html": [
              "<div>\n",
              "<style scoped>\n",
              "    .dataframe tbody tr th:only-of-type {\n",
              "        vertical-align: middle;\n",
              "    }\n",
              "\n",
              "    .dataframe tbody tr th {\n",
              "        vertical-align: top;\n",
              "    }\n",
              "\n",
              "    .dataframe thead th {\n",
              "        text-align: right;\n",
              "    }\n",
              "</style>\n",
              "<table border=\"1\" class=\"dataframe\">\n",
              "  <thead>\n",
              "    <tr style=\"text-align: right;\">\n",
              "      <th></th>\n",
              "      <th>Unnamed: 0</th>\n",
              "      <th>Desc</th>\n",
              "      <th>Unnamed: 0.1</th>\n",
              "      <th>author</th>\n",
              "      <th>genre</th>\n",
              "      <th>image_link</th>\n",
              "      <th>rating</th>\n",
              "      <th>title</th>\n",
              "      <th>cleaned</th>\n",
              "    </tr>\n",
              "  </thead>\n",
              "  <tbody>\n",
              "    <tr>\n",
              "      <th>0</th>\n",
              "      <td>0</td>\n",
              "      <td>We know that power is shifting: From West to E...</td>\n",
              "      <td>0.0</td>\n",
              "      <td>Moisés Naím</td>\n",
              "      <td>Business</td>\n",
              "      <td>https://i.gr-assets.com/images/S/compressed.ph...</td>\n",
              "      <td>3.63</td>\n",
              "      <td>The End of Power: From Boardrooms to Battlefie...</td>\n",
              "      <td>We know that power is shifting From West to Ea...</td>\n",
              "    </tr>\n",
              "    <tr>\n",
              "      <th>1</th>\n",
              "      <td>1</td>\n",
              "      <td>Following the success of The Accidental Billio...</td>\n",
              "      <td>1.0</td>\n",
              "      <td>Blake J. Harris</td>\n",
              "      <td>Business</td>\n",
              "      <td>https://i.gr-assets.com/images/S/compressed.ph...</td>\n",
              "      <td>3.94</td>\n",
              "      <td>Console Wars: Sega, Nintendo, and the Battle t...</td>\n",
              "      <td>Following the success of The Accidental Billio...</td>\n",
              "    </tr>\n",
              "    <tr>\n",
              "      <th>2</th>\n",
              "      <td>2</td>\n",
              "      <td>How to tap the power of social software and ne...</td>\n",
              "      <td>2.0</td>\n",
              "      <td>Chris Brogan</td>\n",
              "      <td>Business</td>\n",
              "      <td>https://i.gr-assets.com/images/S/compressed.ph...</td>\n",
              "      <td>3.78</td>\n",
              "      <td>Trust Agents: Using the Web to Build Influence...</td>\n",
              "      <td>How to tap the power of social software and ne...</td>\n",
              "    </tr>\n",
              "    <tr>\n",
              "      <th>3</th>\n",
              "      <td>3</td>\n",
              "      <td>William J. Bernstein is an American financial ...</td>\n",
              "      <td>3.0</td>\n",
              "      <td>William J. Bernstein</td>\n",
              "      <td>Business</td>\n",
              "      <td>https://i.gr-assets.com/images/S/compressed.ph...</td>\n",
              "      <td>4.20</td>\n",
              "      <td>The Four Pillars of Investing</td>\n",
              "      <td>William J Bernstein is an American financial t...</td>\n",
              "    </tr>\n",
              "    <tr>\n",
              "      <th>4</th>\n",
              "      <td>4</td>\n",
              "      <td>Amazing book. And I joined Steve Jobs and many...</td>\n",
              "      <td>4.0</td>\n",
              "      <td>Akio Morita</td>\n",
              "      <td>Business</td>\n",
              "      <td>https://i.gr-assets.com/images/S/compressed.ph...</td>\n",
              "      <td>4.05</td>\n",
              "      <td>Made in Japan: Akio Morita and Sony</td>\n",
              "      <td>Amazing book And I joined Steve Jobs and many ...</td>\n",
              "    </tr>\n",
              "    <tr>\n",
              "      <th>5</th>\n",
              "      <td>5</td>\n",
              "      <td>In the tradition of Phil Knight's Shoe Dog com...</td>\n",
              "      <td>5.0</td>\n",
              "      <td>Marc Randolph</td>\n",
              "      <td>Business</td>\n",
              "      <td>https://i.gr-assets.com/images/S/compressed.ph...</td>\n",
              "      <td>4.28</td>\n",
              "      <td>That Will Never Work: The Birth of Netflix and...</td>\n",
              "      <td>In the tradition of Phil Knight s Shoe Dog com...</td>\n",
              "    </tr>\n",
              "    <tr>\n",
              "      <th>6</th>\n",
              "      <td>6</td>\n",
              "      <td>Gregory Zuckerman, the bestselling author of T...</td>\n",
              "      <td>6.0</td>\n",
              "      <td>Gregory Zuckerman</td>\n",
              "      <td>Business</td>\n",
              "      <td>https://i.gr-assets.com/images/S/compressed.ph...</td>\n",
              "      <td>4.12</td>\n",
              "      <td>The Man Who Solved the Market: How Jim Simons ...</td>\n",
              "      <td>Gregory Zuckerman the bestselling author of Th...</td>\n",
              "    </tr>\n",
              "  </tbody>\n",
              "</table>\n",
              "</div>"
            ],
            "text/plain": [
              "   Unnamed: 0  ...                                            cleaned\n",
              "0           0  ...  We know that power is shifting From West to Ea...\n",
              "1           1  ...  Following the success of The Accidental Billio...\n",
              "2           2  ...  How to tap the power of social software and ne...\n",
              "3           3  ...  William J Bernstein is an American financial t...\n",
              "4           4  ...  Amazing book And I joined Steve Jobs and many ...\n",
              "5           5  ...  In the tradition of Phil Knight s Shoe Dog com...\n",
              "6           6  ...  Gregory Zuckerman the bestselling author of Th...\n",
              "\n",
              "[7 rows x 9 columns]"
            ]
          },
          "metadata": {},
          "execution_count": 86
        }
      ]
    },
    {
      "cell_type": "code",
      "metadata": {
        "id": "r0pa1qucLjec"
      },
      "source": [
        ""
      ],
      "execution_count": null,
      "outputs": []
    }
  ]
}