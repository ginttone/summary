{
  "nbformat": 4,
  "nbformat_minor": 0,
  "metadata": {
    "colab": {
      "name": "Regular_expression_operations.ipynb",
      "provenance": [],
      "authorship_tag": "ABX9TyOv/O3wQW2LqJfz+Rk3NHFV",
      "include_colab_link": true
    },
    "kernelspec": {
      "name": "python3",
      "display_name": "Python 3"
    },
    "language_info": {
      "name": "python"
    }
  },
  "cells": [
    {
      "cell_type": "markdown",
      "metadata": {
        "id": "view-in-github",
        "colab_type": "text"
      },
      "source": [
        "<a href=\"https://colab.research.google.com/github/ginttone/summary/blob/master/NLP/Regular_expression_operations.ipynb\" target=\"_parent\"><img src=\"https://colab.research.google.com/assets/colab-badge.svg\" alt=\"Open In Colab\"/></a>"
      ]
    },
    {
      "cell_type": "markdown",
      "metadata": {
        "id": "1-ww3P9OyuuU"
      },
      "source": [
        "# [Regular expression operations](https://docs.python.org/3/library/re.html)"
      ]
    },
    {
      "cell_type": "code",
      "metadata": {
        "id": "TKFOoAJszNyn"
      },
      "source": [
        "import re"
      ],
      "execution_count": 2,
      "outputs": []
    },
    {
      "cell_type": "markdown",
      "metadata": {
        "id": "4r8gEAQvzooA"
      },
      "source": [
        "```\n",
        "import re\n",
        "  m = re.search('(?<=abc)def', 'abcdef')\n",
        "  m.group(0)\n",
        "\n",
        "  re.findall(r'\\bf[a-z]*', 'which foot or hand fell fastest')\n",
        "['foot', 'fell', 'fastest']\n",
        "re.findall(r'(\\w+)=(\\d+)', 'set width=20 and height=10')\n",
        "[('width', '20'), ('height', '10')]\n",
        "```"
      ]
    },
    {
      "cell_type": "code",
      "metadata": {
        "id": "4L3T16BLylGN"
      },
      "source": [
        "phone = \"2004-959-559 # This is Phone Number\""
      ],
      "execution_count": 3,
      "outputs": []
    },
    {
      "cell_type": "code",
      "metadata": {
        "colab": {
          "base_uri": "https://localhost:8080/"
        },
        "id": "rzkSkeWPy9oG",
        "outputId": "0260e82b-098b-4cee-8b14-81ae60f58e5a"
      },
      "source": [
        "obj = re.findall('[0-9]+', phone)\n",
        "obj,type(obj)"
      ],
      "execution_count": 6,
      "outputs": [
        {
          "output_type": "execute_result",
          "data": {
            "text/plain": [
              "(['2004', '959', '559'], list)"
            ]
          },
          "metadata": {},
          "execution_count": 6
        }
      ]
    },
    {
      "cell_type": "code",
      "metadata": {
        "colab": {
          "base_uri": "https://localhost:8080/"
        },
        "id": "mSgpobD20JJ3",
        "outputId": "4c9fb6a7-1427-48cc-e635-5b80fee07f2a"
      },
      "source": [
        "obj = re.findall('[0-9]', phone)\n",
        "obj,type(obj)"
      ],
      "execution_count": 7,
      "outputs": [
        {
          "output_type": "execute_result",
          "data": {
            "text/plain": [
              "(['2', '0', '0', '4', '9', '5', '9', '5', '5', '9'], list)"
            ]
          },
          "metadata": {},
          "execution_count": 7
        }
      ]
    },
    {
      "cell_type": "markdown",
      "metadata": {
        "id": "J5cxgVdj161g"
      },
      "source": [
        "replace 하는데 전체가 아니라 몇 개까지만 하기\n",
        "\n",
        "예) 2004-959-000 # This is Phone Number\n",
        "\n",
        "이렇게 바꾸고 싶을 때"
      ]
    },
    {
      "cell_type": "code",
      "metadata": {
        "colab": {
          "base_uri": "https://localhost:8080/",
          "height": 35
        },
        "id": "1nezci-e1YqW",
        "outputId": "5a28a76e-fa82-426a-9745-7bf9c293e02c"
      },
      "source": [
        "num = re.sub('[0-9]+','1',phone)\n",
        "num"
      ],
      "execution_count": 9,
      "outputs": [
        {
          "output_type": "execute_result",
          "data": {
            "application/vnd.google.colaboratory.intrinsic+json": {
              "type": "string"
            },
            "text/plain": [
              "'1-1-1 # This is Phone Number'"
            ]
          },
          "metadata": {},
          "execution_count": 9
        }
      ]
    },
    {
      "cell_type": "code",
      "metadata": {
        "colab": {
          "base_uri": "https://localhost:8080/",
          "height": 35
        },
        "id": "c0nNJoTf2apV",
        "outputId": "e2a4b20e-049d-4e22-f07d-a241e25d619a"
      },
      "source": [
        "num = re.sub('[0-9]','0',phone)\n",
        "num"
      ],
      "execution_count": 10,
      "outputs": [
        {
          "output_type": "execute_result",
          "data": {
            "application/vnd.google.colaboratory.intrinsic+json": {
              "type": "string"
            },
            "text/plain": [
              "'0000-000-000 # This is Phone Number'"
            ]
          },
          "metadata": {},
          "execution_count": 10
        }
      ]
    },
    {
      "cell_type": "code",
      "metadata": {
        "id": "50ZtZrbb29h0"
      },
      "source": [
        ""
      ],
      "execution_count": null,
      "outputs": []
    }
  ]
}