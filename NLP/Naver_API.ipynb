{
  "nbformat": 4,
  "nbformat_minor": 0,
  "metadata": {
    "colab": {
      "name": "Naver_API.ipynb",
      "provenance": [],
      "collapsed_sections": [],
      "authorship_tag": "ABX9TyPnH8k9kg6bAkTq+j5ccN54",
      "include_colab_link": true
    },
    "kernelspec": {
      "name": "python3",
      "display_name": "Python 3"
    },
    "language_info": {
      "name": "python"
    }
  },
  "cells": [
    {
      "cell_type": "markdown",
      "metadata": {
        "id": "view-in-github",
        "colab_type": "text"
      },
      "source": [
        "<a href=\"https://colab.research.google.com/github/ginttone/summary/blob/master/Naver_API.ipynb\" target=\"_parent\"><img src=\"https://colab.research.google.com/assets/colab-badge.svg\" alt=\"Open In Colab\"/></a>"
      ]
    },
    {
      "cell_type": "markdown",
      "metadata": {
        "id": "6Ce8vNYjAZvh"
      },
      "source": [
        "# API와 조합해서 스크레핑하기"
      ]
    },
    {
      "cell_type": "code",
      "metadata": {
        "id": "vkP7IN_m66hL"
      },
      "source": [
        "import requests"
      ],
      "execution_count": 9,
      "outputs": []
    },
    {
      "cell_type": "code",
      "metadata": {
        "id": "M7X_nQMaExST"
      },
      "source": [
        "auth_dict = {'X-Naver-Client-Id': 'qHBcPwmndt6qrfFfALR1', 'X-Naver-Client-Secret': 'b4PawsVTH4'}"
      ],
      "execution_count": 10,
      "outputs": []
    },
    {
      "cell_type": "markdown",
      "metadata": {
        "id": "wk1GSImL8nuU"
      },
      "source": [
        "```\n",
        "https://openapi.naver.com/v1/search/{serviceid}\n",
        "serviceid= blog\n",
        "query= 진주\n",
        "display= 10\n",
        "start= 1\n",
        "sort= sim\n",
        "filter= all\n",
        "```\n",
        "https://openapi.naver.com/v1/search/blog?query=진주&display=10&start=1&sort=sim"
      ]
    },
    {
      "cell_type": "code",
      "metadata": {
        "id": "qUSUo6GJ7Ld1"
      },
      "source": [
        "uri = 'https://openapi.naver.com/v1/search/blog?query=진주&display=10&start=1&sort=sim'"
      ],
      "execution_count": 11,
      "outputs": []
    },
    {
      "cell_type": "code",
      "metadata": {
        "colab": {
          "base_uri": "https://localhost:8080/"
        },
        "id": "ykI_2nfc9Xlj",
        "outputId": "909fafb8-b503-45bb-ba61-0278dd098019"
      },
      "source": [
        "req = requests.get(uri, headers=auth_dict)\n",
        "req"
      ],
      "execution_count": 12,
      "outputs": [
        {
          "output_type": "execute_result",
          "data": {
            "text/plain": [
              "<Response [200]>"
            ]
          },
          "metadata": {},
          "execution_count": 12
        }
      ]
    },
    {
      "cell_type": "code",
      "metadata": {
        "colab": {
          "base_uri": "https://localhost:8080/"
        },
        "id": "O4FYd2uV9mXX",
        "outputId": "162893b4-f041-490c-c3fe-cd5092a67f55"
      },
      "source": [
        "req.status_code"
      ],
      "execution_count": 13,
      "outputs": [
        {
          "output_type": "execute_result",
          "data": {
            "text/plain": [
              "200"
            ]
          },
          "metadata": {},
          "execution_count": 13
        }
      ]
    },
    {
      "cell_type": "code",
      "metadata": {
        "id": "Io1ePKh491Bf"
      },
      "source": [
        "req.content"
      ],
      "execution_count": null,
      "outputs": []
    },
    {
      "cell_type": "markdown",
      "metadata": {
        "id": "F3apBf1j-YSv"
      },
      "source": [
        "## JSON 사용\n",
        "\n",
        "JSON으로 던져주는 경우 딕셔너리로 바꾸기\n",
        "\n",
        " request로 요청하면 html, json, xml 셋 중의 하나로 결과값을 받을 수 있음\n",
        "\n",
        " json일 경우 딕셔너리로, html, xml일 경우 BeautifulSoup 이용"
      ]
    },
    {
      "cell_type": "code",
      "metadata": {
        "id": "Ask9c5Qy-2U1"
      },
      "source": [
        "import json"
      ],
      "execution_count": 15,
      "outputs": []
    },
    {
      "cell_type": "code",
      "metadata": {
        "colab": {
          "base_uri": "https://localhost:8080/"
        },
        "id": "qQSY6bqX-4V1",
        "outputId": "70110e7c-32c5-4793-9ecd-2a09312a4cda"
      },
      "source": [
        "body_dict=json.loads(req.content)\n",
        "type(body_dict), body_dict.keys()"
      ],
      "execution_count": 16,
      "outputs": [
        {
          "output_type": "execute_result",
          "data": {
            "text/plain": [
              "(dict, dict_keys(['lastBuildDate', 'total', 'start', 'display', 'items']))"
            ]
          },
          "metadata": {},
          "execution_count": 16
        }
      ]
    },
    {
      "cell_type": "code",
      "metadata": {
        "colab": {
          "base_uri": "https://localhost:8080/"
        },
        "id": "YwjmTZVO_jMv",
        "outputId": "6d25af60-2e20-4cea-97f2-c6561ae566a9"
      },
      "source": [
        "body_dict['total']"
      ],
      "execution_count": 19,
      "outputs": [
        {
          "output_type": "execute_result",
          "data": {
            "text/plain": [
              "3403731"
            ]
          },
          "metadata": {},
          "execution_count": 19
        }
      ]
    },
    {
      "cell_type": "markdown",
      "metadata": {
        "id": "00k5wK8N_6H0"
      },
      "source": [
        "body_dict['items'] 가 list인 것 확인"
      ]
    },
    {
      "cell_type": "code",
      "metadata": {
        "id": "9_XZ3imk_tJU"
      },
      "source": [
        "body_dict['items'],type(body_dict['items'])"
      ],
      "execution_count": null,
      "outputs": []
    },
    {
      "cell_type": "markdown",
      "metadata": {
        "id": "cca_QKquABbr"
      },
      "source": [
        "list는 숫자로 접근"
      ]
    },
    {
      "cell_type": "code",
      "metadata": {
        "colab": {
          "base_uri": "https://localhost:8080/",
          "height": 35
        },
        "id": "Gpi0el4r_5Uo",
        "outputId": "8e0f1728-3c2e-43dc-cfa3-b3120b0d0ccd"
      },
      "source": [
        "body_dict['items'][4]['bloggerlink']"
      ],
      "execution_count": 21,
      "outputs": [
        {
          "output_type": "execute_result",
          "data": {
            "application/vnd.google.colaboratory.intrinsic+json": {
              "type": "string"
            },
            "text/plain": [
              "'https://blog.naver.com/heabara'"
            ]
          },
          "metadata": {},
          "execution_count": 21
        }
      ]
    },
    {
      "cell_type": "code",
      "metadata": {
        "id": "igk9RqdCFOmO"
      },
      "source": [
        ""
      ],
      "execution_count": null,
      "outputs": []
    }
  ]
}