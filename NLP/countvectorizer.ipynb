{
  "nbformat": 4,
  "nbformat_minor": 0,
  "metadata": {
    "colab": {
      "name": "countvectorizer.ipynb",
      "provenance": [],
      "collapsed_sections": [],
      "mount_file_id": "1e514zzhDbNi-Ip_34kiej1FsEVLKiAD2",
      "authorship_tag": "ABX9TyNVgIr6INw9zEXAvOdLY4XU",
      "include_colab_link": true
    },
    "kernelspec": {
      "name": "python3",
      "display_name": "Python 3"
    },
    "language_info": {
      "name": "python"
    }
  },
  "cells": [
    {
      "cell_type": "markdown",
      "metadata": {
        "id": "view-in-github",
        "colab_type": "text"
      },
      "source": [
        "<a href=\"https://colab.research.google.com/github/ginttone/summary/blob/master/NLP/countvectorizer.ipynb\" target=\"_parent\"><img src=\"https://colab.research.google.com/assets/colab-badge.svg\" alt=\"Open In Colab\"/></a>"
      ]
    },
    {
      "cell_type": "markdown",
      "metadata": {
        "id": "yOuZoRwusbo3"
      },
      "source": [
        "# 뉴스 관련단어 추천 서비스"
      ]
    },
    {
      "cell_type": "markdown",
      "metadata": {
        "id": "K7izDVgyCxUb"
      },
      "source": [
        "## 데이터 가져오기"
      ]
    },
    {
      "cell_type": "code",
      "metadata": {
        "id": "x935a969BGrO"
      },
      "source": [
        "import pandas as pd"
      ],
      "execution_count": 44,
      "outputs": []
    },
    {
      "cell_type": "code",
      "metadata": {
        "colab": {
          "base_uri": "https://localhost:8080/",
          "height": 1000
        },
        "id": "Hdbk_hK8BkFC",
        "outputId": "32af21d7-8bea-4a42-d597-96293def75a7"
      },
      "source": [
        "df = pd.read_csv('./drive/MyDrive/Multi_test_deeplearning/smtph_total.csv')\n",
        "df.head(5)"
      ],
      "execution_count": 45,
      "outputs": [
        {
          "output_type": "execute_result",
          "data": {
            "text/html": [
              "<div>\n",
              "<style scoped>\n",
              "    .dataframe tbody tr th:only-of-type {\n",
              "        vertical-align: middle;\n",
              "    }\n",
              "\n",
              "    .dataframe tbody tr th {\n",
              "        vertical-align: top;\n",
              "    }\n",
              "\n",
              "    .dataframe thead th {\n",
              "        text-align: right;\n",
              "    }\n",
              "</style>\n",
              "<table border=\"1\" class=\"dataframe\">\n",
              "  <thead>\n",
              "    <tr style=\"text-align: right;\">\n",
              "      <th></th>\n",
              "      <th>Title</th>\n",
              "      <th>Link</th>\n",
              "      <th>Description</th>\n",
              "      <th>Blogger Name</th>\n",
              "      <th>Blogger Link</th>\n",
              "      <th>Post Date</th>\n",
              "      <th>Post Contents</th>\n",
              "    </tr>\n",
              "  </thead>\n",
              "  <tbody>\n",
              "    <tr>\n",
              "      <th>0</th>\n",
              "      <td>갤럭시 Z 플립과 한 달, 접는 스마트폰의 가치만 남다</td>\n",
              "      <td>https://chitsol.com/entry/galaxy_z_flip_review/</td>\n",
              "      <td>반으로 접을 수 있는 갤럭시 Z 플립이 접지 않는 스마트폰과 얼마나 다른 경험인가를...</td>\n",
              "      <td>https://chitsol.com/</td>\n",
              "      <td>https://chitsol.com/</td>\n",
              "      <td>20210712</td>\n",
              "      <td>NaN</td>\n",
              "    </tr>\n",
              "    <tr>\n",
              "      <th>1</th>\n",
              "      <td>스마트폰 삼각대 추천 내돈내산 리뷰</td>\n",
              "      <td>https://blog.naver.com/kimhw1020?Redirect=Log&amp;...</td>\n",
              "      <td>그래서 스마트폰 삼각대 추천 하는 제품을 구매하게 된 것 같아요. 2018년 4월 ...</td>\n",
              "      <td>진돗개 솜이랑 언니랑</td>\n",
              "      <td>https://blog.naver.com/kimhw1020</td>\n",
              "      <td>20210720</td>\n",
              "      <td>\\n\\n\\n\\n\\n\\n\\n솜이언니 일상\\n\\n\\n\\n\\n스마트폰 삼각대 추천 내돈내...</td>\n",
              "    </tr>\n",
              "    <tr>\n",
              "      <th>2</th>\n",
              "      <td>귀여운 스마트폰 거치대 + 아이폰 케이스(다이소 비교)</td>\n",
              "      <td>https://blog.naver.com/logix200?Redirect=Log&amp;l...</td>\n",
              "      <td>스마트폰 거치대 홀더 &amp;quot;아이폰 케이스도 졸.귀.탱&amp;quot; 안녕하세요. ...</td>\n",
              "      <td>옥희돌이 칩시크족</td>\n",
              "      <td>https://blog.naver.com/logix200</td>\n",
              "      <td>20210802</td>\n",
              "      <td>\\n\\n\\n\\n\\n\\n\\n일반 수령기\\n\\n\\n\\n\\n귀여운 스마트폰 거치대 + 아...</td>\n",
              "    </tr>\n",
              "    <tr>\n",
              "      <th>3</th>\n",
              "      <td>베스틴 원패스 스마트폰 어플, 아이파크 공동 현관문 핸드폰 연동</td>\n",
              "      <td>https://blog.naver.com/july7th73?Redirect=Log&amp;...</td>\n",
              "      <td>요즘 신축 아파트들은 대부분 IoT 스마트 기기들을 이용한 출입시스템을 도입, 각종...</td>\n",
              "      <td>수연아빠의 야구장 출동 (개포맘모스)</td>\n",
              "      <td>https://blog.naver.com/july7th73</td>\n",
              "      <td>20210816</td>\n",
              "      <td>\\n\\n\\n\\n\\n\\n\\n파워리뷰즐기기\\n\\n\\n\\n\\n베스틴 원패스 스마트폰 어플...</td>\n",
              "    </tr>\n",
              "    <tr>\n",
              "      <th>4</th>\n",
              "      <td>대전스마트폰복구 삭제나 고장도 걱정없이</td>\n",
              "      <td>https://blog.naver.com/jcy0207?Redirect=Log&amp;lo...</td>\n",
              "      <td>바쁜 현대인들의 곁에서 어디서든 일상을 함께하는 스마트폰은 한순간도 뗄레야 뗄 수 ...</td>\n",
              "      <td>모아의 교육정보 모아모아</td>\n",
              "      <td>https://blog.naver.com/jcy0207</td>\n",
              "      <td>20210609</td>\n",
              "      <td>\\n\\n안녕하세요 모아입니다.바쁜 현대인들의 곁에서어디서든 일상을 함께하는 스마트폰...</td>\n",
              "    </tr>\n",
              "  </tbody>\n",
              "</table>\n",
              "</div>"
            ],
            "text/plain": [
              "                                 Title  ...                                      Post Contents\n",
              "0       갤럭시 Z 플립과 한 달, 접는 스마트폰의 가치만 남다  ...                                                NaN\n",
              "1                  스마트폰 삼각대 추천 내돈내산 리뷰  ...  \\n\\n\\n\\n\\n\\n\\n솜이언니 일상\\n\\n\\n\\n\\n스마트폰 삼각대 추천 내돈내...\n",
              "2       귀여운 스마트폰 거치대 + 아이폰 케이스(다이소 비교)  ...  \\n\\n\\n\\n\\n\\n\\n일반 수령기\\n\\n\\n\\n\\n귀여운 스마트폰 거치대 + 아...\n",
              "3  베스틴 원패스 스마트폰 어플, 아이파크 공동 현관문 핸드폰 연동  ...  \\n\\n\\n\\n\\n\\n\\n파워리뷰즐기기\\n\\n\\n\\n\\n베스틴 원패스 스마트폰 어플...\n",
              "4                대전스마트폰복구 삭제나 고장도 걱정없이  ...  \\n\\n안녕하세요 모아입니다.바쁜 현대인들의 곁에서어디서든 일상을 함께하는 스마트폰...\n",
              "\n",
              "[5 rows x 7 columns]"
            ]
          },
          "metadata": {},
          "execution_count": 45
        }
      ]
    },
    {
      "cell_type": "code",
      "metadata": {
        "colab": {
          "base_uri": "https://localhost:8080/"
        },
        "id": "iMaYAQRYCHVC",
        "outputId": "bb78f79b-f21a-4c43-a12a-4b4f2ff89c0c"
      },
      "source": [
        "df.columns"
      ],
      "execution_count": 46,
      "outputs": [
        {
          "output_type": "execute_result",
          "data": {
            "text/plain": [
              "Index(['Title', 'Link', 'Description', 'Blogger Name', 'Blogger Link',\n",
              "       'Post Date', 'Post Contents'],\n",
              "      dtype='object')"
            ]
          },
          "metadata": {},
          "execution_count": 46
        }
      ]
    },
    {
      "cell_type": "code",
      "metadata": {
        "colab": {
          "base_uri": "https://localhost:8080/"
        },
        "id": "Stu5wgLXBxxj",
        "outputId": "73caf91a-1c6e-447b-92f3-76698231e118"
      },
      "source": [
        "posts = df['Title']+['Description']\n",
        "type(posts),posts"
      ],
      "execution_count": 47,
      "outputs": [
        {
          "output_type": "execute_result",
          "data": {
            "text/plain": [
              "(pandas.core.series.Series,\n",
              " 0              갤럭시 Z 플립과 한 달, 접는 스마트폰의 가치만 남다Description\n",
              " 1                         스마트폰 삼각대 추천 내돈내산 리뷰Description\n",
              " 2              귀여운 스마트폰 거치대 + 아이폰 케이스(다이소 비교)Description\n",
              " 3         베스틴 원패스 스마트폰 어플, 아이파크 공동 현관문 핸드폰 연동Description\n",
              " 4                       대전스마트폰복구 삭제나 고장도 걱정없이Description\n",
              "                              ...                        \n",
              " 995    스마트폰의 &quot;배터리 수명&quot;을 걱정하지 않아도 좋은 이유Descri...\n",
              " 996                  세상을 스마트폰 카메라로 검색하는 구글 렌즈Description\n",
              " 997              스마트폰과 연동되는 장난감 로봇, 샤오미 로봇청소기Description\n",
              " 998            KT 단독 보급형 스마트폰 갤럭시진 블랙 특징 사용후기Description\n",
              " 999          화웨이 트리플카메라 스마트폰 P20프로, 카메라 스펙 분석Description\n",
              " Name: Title, Length: 1000, dtype: object)"
            ]
          },
          "metadata": {},
          "execution_count": 47
        }
      ]
    },
    {
      "cell_type": "markdown",
      "metadata": {
        "id": "7GXLfc3RCpJz"
      },
      "source": [
        "## 단어로 쪼개기"
      ]
    },
    {
      "cell_type": "code",
      "metadata": {
        "id": "APJhqSoTCO0-"
      },
      "source": [
        "!python3 -m pip install konlpy"
      ],
      "execution_count": null,
      "outputs": []
    },
    {
      "cell_type": "code",
      "metadata": {
        "id": "-V-7-AMZCjCR"
      },
      "source": [
        "from konlpy.tag import Okt"
      ],
      "execution_count": 49,
      "outputs": []
    },
    {
      "cell_type": "code",
      "metadata": {
        "id": "0oq_nQ4kDM8o"
      },
      "source": [
        "okt = Okt()"
      ],
      "execution_count": 50,
      "outputs": []
    },
    {
      "cell_type": "code",
      "metadata": {
        "id": "TVrAfOr6EQdz"
      },
      "source": [
        "stop_words = ['강,', '글,', '애', '미', '번', '은', '이', '것', '등', '더', '를', '좀', '즉', '인', '옹', '때', '만', '원', '이때', '개']"
      ],
      "execution_count": 51,
      "outputs": []
    },
    {
      "cell_type": "code",
      "metadata": {
        "colab": {
          "base_uri": "https://localhost:8080/"
        },
        "id": "0n6NBz9SDQYF",
        "outputId": "353e489d-776c-452e-ebcb-17185e951a54"
      },
      "source": [
        "posts_noun = []\n",
        "for post in posts:\n",
        "  #print(okt.nouns(post))\n",
        "  for noun in okt.nouns(post):\n",
        "    posts_noun.append(noun)\n",
        "\n",
        "len(posts_noun)"
      ],
      "execution_count": 52,
      "outputs": [
        {
          "output_type": "execute_result",
          "data": {
            "text/plain": [
              "6083"
            ]
          },
          "metadata": {},
          "execution_count": 52
        }
      ]
    },
    {
      "cell_type": "code",
      "metadata": {
        "id": "vfkvejxsWP3v"
      },
      "source": [
        "posts_noun"
      ],
      "execution_count": null,
      "outputs": []
    },
    {
      "cell_type": "code",
      "metadata": {
        "id": "FmzXWEsQD9wX"
      },
      "source": [
        "from collections import Counter"
      ],
      "execution_count": 54,
      "outputs": []
    },
    {
      "cell_type": "markdown",
      "metadata": {
        "id": "PupbAFjIYW-E"
      },
      "source": [
        "type(noun_cnt) 딕셔너리로 출력 됨"
      ]
    },
    {
      "cell_type": "code",
      "metadata": {
        "colab": {
          "base_uri": "https://localhost:8080/"
        },
        "id": "885Bv5vJWPX2",
        "outputId": "cb973587-010e-4cbc-fee3-fe02ec8dd171"
      },
      "source": [
        "noun_cnt = Counter(posts_noun)\n",
        "type(noun_cnt)"
      ],
      "execution_count": 55,
      "outputs": [
        {
          "output_type": "execute_result",
          "data": {
            "text/plain": [
              "collections.Counter"
            ]
          },
          "metadata": {},
          "execution_count": 55
        }
      ]
    },
    {
      "cell_type": "code",
      "metadata": {
        "id": "6wxKwmjgWgB2"
      },
      "source": [
        "top_30_nouns = noun_cnt.most_common(30)\n",
        "type(top_30_nouns),top_30_nouns"
      ],
      "execution_count": null,
      "outputs": []
    },
    {
      "cell_type": "code",
      "metadata": {
        "colab": {
          "base_uri": "https://localhost:8080/"
        },
        "id": "XiDj6D4QY9Ml",
        "outputId": "18dbf561-6cc7-451c-fc11-b7358991e2a2"
      },
      "source": [
        "top_nouns_dict = dict(top_30_nouns)\n",
        "type(top_nouns_dict)"
      ],
      "execution_count": 57,
      "outputs": [
        {
          "output_type": "execute_result",
          "data": {
            "text/plain": [
              "dict"
            ]
          },
          "metadata": {},
          "execution_count": 57
        }
      ]
    },
    {
      "cell_type": "markdown",
      "metadata": {
        "id": "Gcvc427UZJAM"
      },
      "source": [
        "## Word cloud\n"
      ]
    },
    {
      "cell_type": "code",
      "metadata": {
        "id": "DKTk6cSyZBJV"
      },
      "source": [
        "from wordcloud import WordCloud"
      ],
      "execution_count": 58,
      "outputs": []
    },
    {
      "cell_type": "code",
      "metadata": {
        "id": "05JBkyc5cIO2"
      },
      "source": [
        "path = ''"
      ],
      "execution_count": 59,
      "outputs": []
    },
    {
      "cell_type": "code",
      "metadata": {
        "id": "991uzYxbZQ6n"
      },
      "source": [
        "nouns_wordcloud = WordCloud()"
      ],
      "execution_count": 60,
      "outputs": []
    },
    {
      "cell_type": "code",
      "metadata": {
        "colab": {
          "base_uri": "https://localhost:8080/"
        },
        "id": "Tq83WVJiZan1",
        "outputId": "07822a95-57c2-4dab-b5b2-e881899d1229"
      },
      "source": [
        "nouns_wordcloud.generate_from_frequencies(top_nouns_dict)"
      ],
      "execution_count": 61,
      "outputs": [
        {
          "output_type": "execute_result",
          "data": {
            "text/plain": [
              "<wordcloud.wordcloud.WordCloud at 0x7f4e86f03bd0>"
            ]
          },
          "metadata": {},
          "execution_count": 61
        }
      ]
    },
    {
      "cell_type": "markdown",
      "metadata": {
        "id": "pnAaoTM4Z_2d"
      },
      "source": [
        "## Display"
      ]
    },
    {
      "cell_type": "code",
      "metadata": {
        "id": "zgcPWY2zZwiG"
      },
      "source": [
        "import matplotlib.pyplot as plt"
      ],
      "execution_count": 62,
      "outputs": []
    },
    {
      "cell_type": "code",
      "metadata": {
        "colab": {
          "base_uri": "https://localhost:8080/",
          "height": 237
        },
        "id": "Xu0XyRcTZ500",
        "outputId": "e03e3c79-0016-4a92-8a3d-76495b8d2bd2"
      },
      "source": [
        "plt.imshow(nouns_wordcloud)"
      ],
      "execution_count": 63,
      "outputs": [
        {
          "output_type": "execute_result",
          "data": {
            "text/plain": [
              "<matplotlib.image.AxesImage at 0x7f4e86f42310>"
            ]
          },
          "metadata": {},
          "execution_count": 63
        },
        {
          "output_type": "display_data",
          "data": {
            "image/png": "[encoded data removed]",
            "text/plain": [
              "<Figure size 432x288 with 1 Axes>"
            ]
          },
          "metadata": {
            "needs_background": "light"
          }
        }
      ]
    },
    {
      "cell_type": "markdown",
      "metadata": {
        "id": "glYmo-OEcuuU"
      },
      "source": [
        "stopwords, fonts 사용 안한 것"
      ]
    },
    {
      "cell_type": "markdown",
      "metadata": {
        "id": "nMsUnNdocO0U"
      },
      "source": [
        "## CountVectorizer(빈도수 사용)"
      ]
    },
    {
      "cell_type": "code",
      "metadata": {
        "id": "9qwxE3mVaOLz"
      },
      "source": [
        "from sklearn.feature_extraction.text import CountVectorizer "
      ],
      "execution_count": 64,
      "outputs": []
    },
    {
      "cell_type": "code",
      "metadata": {
        "id": "UWy-7_vifafU"
      },
      "source": [
        "corpus = [\n",
        "    'you know I want your love',\n",
        "    'I like you',\n",
        "    'what should I do ',    \n",
        "]"
      ],
      "execution_count": 65,
      "outputs": []
    },
    {
      "cell_type": "code",
      "metadata": {
        "id": "FwHR0IB5fdXl"
      },
      "source": [
        "countvectorizer  = CountVectorizer()"
      ],
      "execution_count": 66,
      "outputs": []
    },
    {
      "cell_type": "code",
      "metadata": {
        "colab": {
          "base_uri": "https://localhost:8080/"
        },
        "id": "QR5a5OmPfp4D",
        "outputId": "eb9b1b1c-11ca-415f-a988-5af1e0095d46"
      },
      "source": [
        "countvectorizer.fit_transform(corpus).toarray()"
      ],
      "execution_count": 67,
      "outputs": [
        {
          "output_type": "execute_result",
          "data": {
            "text/plain": [
              "array([[0, 1, 0, 1, 0, 1, 0, 1, 1],\n",
              "       [0, 0, 1, 0, 0, 0, 0, 1, 0],\n",
              "       [1, 0, 0, 0, 1, 0, 1, 0, 0]])"
            ]
          },
          "metadata": {},
          "execution_count": 67
        }
      ]
    },
    {
      "cell_type": "markdown",
      "metadata": {
        "id": "1lJ2HgszgBGM"
      },
      "source": [
        "vocabulary_ 로 컬럼의 순서 확인"
      ]
    },
    {
      "cell_type": "code",
      "metadata": {
        "colab": {
          "base_uri": "https://localhost:8080/"
        },
        "id": "5xCLPghDf1tC",
        "outputId": "6a155667-ede7-4b70-fd59-0ae8bbbc747d"
      },
      "source": [
        "print(countvectorizer.vocabulary_)"
      ],
      "execution_count": 68,
      "outputs": [
        {
          "output_type": "stream",
          "text": [
            "{'you': 7, 'know': 1, 'want': 5, 'your': 8, 'love': 3, 'like': 2, 'what': 6, 'should': 4, 'do': 0}\n"
          ],
          "name": "stdout"
        }
      ]
    },
    {
      "cell_type": "markdown",
      "metadata": {
        "id": "Yj2Fgg1hV4tj"
      },
      "source": [
        "## Word2Vec\n",
        "단어 리스트를 word2vec 함"
      ]
    },
    {
      "cell_type": "code",
      "metadata": {
        "id": "86q_RiyVV7_z"
      },
      "source": [
        "from gensim.models import Word2Vec"
      ],
      "execution_count": 69,
      "outputs": []
    },
    {
      "cell_type": "code",
      "metadata": {
        "id": "1aepym8AWBxs"
      },
      "source": [
        "word2vec= Word2Vec([posts_noun],min_count=1)"
      ],
      "execution_count": 70,
      "outputs": []
    },
    {
      "cell_type": "code",
      "metadata": {
        "colab": {
          "base_uri": "https://localhost:8080/"
        },
        "id": "GuBLiWTwWTR2",
        "outputId": "b2eaa448-6bac-4de0-db7c-bf0b46078a20"
      },
      "source": [
        "word2vec"
      ],
      "execution_count": 71,
      "outputs": [
        {
          "output_type": "execute_result",
          "data": {
            "text/plain": [
              "<gensim.models.word2vec.Word2Vec at 0x7f4e86e15790>"
            ]
          },
          "metadata": {},
          "execution_count": 71
        }
      ]
    },
    {
      "cell_type": "markdown",
      "metadata": {
        "id": "Ebu7m55mWXzI"
      },
      "source": [
        "궁금한 단어 넣으면 유사단어 가져옴(코사인 기준)"
      ]
    },
    {
      "cell_type": "code",
      "metadata": {
        "colab": {
          "base_uri": "https://localhost:8080/"
        },
        "id": "ytKrObm9WWFv",
        "outputId": "8615564e-74e1-4626-eade-5cc31338728b"
      },
      "source": [
        "word2vec.wv.most_similar('삼성')"
      ],
      "execution_count": 72,
      "outputs": [
        {
          "output_type": "execute_result",
          "data": {
            "text/plain": [
              "[('스마트폰', 0.9987649917602539),\n",
              " ('갤럭시', 0.9981738328933716),\n",
              " ('스펙', 0.998099684715271),\n",
              " ('강', 0.9980555772781372),\n",
              " ('위', 0.9980287551879883),\n",
              " ('방법', 0.9980186223983765),\n",
              " ('사용', 0.9979647397994995),\n",
              " ('강의', 0.9979081749916077),\n",
              " ('안드로이드', 0.9979023337364197),\n",
              " ('보급', 0.9978432059288025)]"
            ]
          },
          "metadata": {},
          "execution_count": 72
        }
      ]
    },
    {
      "cell_type": "code",
      "metadata": {
        "id": "e9WKeYCtWlAb",
        "colab": {
          "base_uri": "https://localhost:8080/"
        },
        "outputId": "1dc0a2af-9ea9-4542-8bf8-39e4bdc4e068"
      },
      "source": [
        "word2vec"
      ],
      "execution_count": 73,
      "outputs": [
        {
          "output_type": "execute_result",
          "data": {
            "text/plain": [
              "<gensim.models.word2vec.Word2Vec at 0x7f4e86e15790>"
            ]
          },
          "metadata": {},
          "execution_count": 73
        }
      ]
    }
  ]
}