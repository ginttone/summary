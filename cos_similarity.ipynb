{
  "nbformat": 4,
  "nbformat_minor": 0,
  "metadata": {
    "colab": {
      "name": "cos_similarity.ipynb",
      "provenance": [],
      "collapsed_sections": [],
      "authorship_tag": "ABX9TyPqv7jahJPqmZ06WmtOnDxf",
      "include_colab_link": true
    },
    "kernelspec": {
      "name": "python3",
      "display_name": "Python 3"
    },
    "language_info": {
      "name": "python"
    }
  },
  "cells": [
    {
      "cell_type": "markdown",
      "metadata": {
        "id": "view-in-github",
        "colab_type": "text"
      },
      "source": [
        "<a href=\"https://colab.research.google.com/github/ginttone/summary/blob/master/cos_similarity.ipynb\" target=\"_parent\"><img src=\"https://colab.research.google.com/assets/colab-badge.svg\" alt=\"Open In Colab\"/></a>"
      ]
    },
    {
      "cell_type": "markdown",
      "metadata": {
        "id": "n7krLioBmv6_"
      },
      "source": [
        "# word to back\n",
        "\n",
        "씨보우 - 워드투백 - 엔그램"
      ]
    },
    {
      "cell_type": "markdown",
      "metadata": {
        "id": "vpJI3IjonAnk"
      },
      "source": [
        "## [Similarity(관계성 확인)](https://wikidocs.net/24603)\n",
        "```\n",
        "      바나나  사과  저는  좋아요\n",
        "문서1   0      1     1     1\n",
        "문서2   1      0     1     1\n",
        "문서3   2      0     2     2\n",
        "\n",
        "```\n",
        "\n",
        "토크나이저 -> 군집화 -> 분류체계 -> 긍정부정 뽑아냄 : 걸러내는 방법으로 사용\n"
      ]
    },
    {
      "cell_type": "code",
      "metadata": {
        "id": "tKZeTxCjjseJ"
      },
      "source": [
        "from numpy import dot\n",
        "from numpy.linalg import norm\n",
        "import numpy as np\n",
        "def cos_sim(A, B):\n",
        "       return dot(A, B)/(norm(A)*norm(B))"
      ],
      "execution_count": 2,
      "outputs": []
    },
    {
      "cell_type": "code",
      "metadata": {
        "id": "g7wXH1sbobH8"
      },
      "source": [
        "doc1= np.array([0 , 1 , 1 , 1])\n",
        "doc2= np.array([1 , 0 , 1 , 1])\n",
        "doc3= np.array([2 , 0 , 2 , 2])"
      ],
      "execution_count": 9,
      "outputs": []
    },
    {
      "cell_type": "code",
      "metadata": {
        "colab": {
          "base_uri": "https://localhost:8080/"
        },
        "id": "_JSlvCnQqFxq",
        "outputId": "bfa5f84d-4a9b-42f0-d15b-3d6ebb44901a"
      },
      "source": [
        "cos_sim(doc1, doc2)"
      ],
      "execution_count": 10,
      "outputs": [
        {
          "output_type": "execute_result",
          "data": {
            "text/plain": [
              "0.6666666666666667"
            ]
          },
          "metadata": {},
          "execution_count": 10
        }
      ]
    },
    {
      "cell_type": "code",
      "metadata": {
        "colab": {
          "base_uri": "https://localhost:8080/"
        },
        "id": "30fDTCTGqIPe",
        "outputId": "311a8142-30ac-42c2-9780-562e426e7740"
      },
      "source": [
        "cos_sim(doc1, doc3)"
      ],
      "execution_count": 11,
      "outputs": [
        {
          "output_type": "execute_result",
          "data": {
            "text/plain": [
              "0.6666666666666667"
            ]
          },
          "metadata": {},
          "execution_count": 11
        }
      ]
    },
    {
      "cell_type": "code",
      "metadata": {
        "colab": {
          "base_uri": "https://localhost:8080/"
        },
        "id": "CfB7EDZKqOEg",
        "outputId": "1134eb9b-3341-46a7-f62b-4c68cb81654f"
      },
      "source": [
        "cos_sim(doc2, doc3)"
      ],
      "execution_count": 12,
      "outputs": [
        {
          "output_type": "execute_result",
          "data": {
            "text/plain": [
              "1.0000000000000002"
            ]
          },
          "metadata": {},
          "execution_count": 12
        }
      ]
    },
    {
      "cell_type": "markdown",
      "metadata": {
        "id": "ek_nQ6ONtg_d"
      },
      "source": [
        "# [네이버 API사용](https://developers.naver.com/main/)\n",
        "```\n",
        "1. 공공 API\n",
        "  API공통 가이드\n",
        "    샘플코드 \n",
        "      로그인방식 API호출 예 \n",
        "      비로그인 방식 API호출 예\n",
        "  서비스 API\n",
        "    검색\n",
        "     블로그\n",
        "      오픈 API이용 신청\n",
        "        Application\n",
        "         개요 : Client ID(n5q55BwQT2B4ZSaQuxl6, Client Secret(VnlvNdrwph)\n",
        "         API설정 : 내게 맞는 key설정\n",
        "           사용 API(검색)\n",
        "         Playground(beta): \n",
        "           API선택(Search-기본검색)\n",
        "           API URL(https://openapi.naver.com/v1/search/{serviceid})\n",
        "           serviceid(*) (blog)\n",
        "           query(*) (검색어)\n",
        "           display (검색결과 출력수)\n",
        "           start (검색시작위치)\n",
        "           sort(유사도Similarity)\n",
        "           filter(이미지 링크도 가져올 수 있음)\n",
        "\n",
        "           API호출 \n",
        "            API 요청\n",
        "            API 호출 결과\n",
        "\n",
        "2. 스크레핑\n",
        "```"
      ]
    },
    {
      "cell_type": "code",
      "metadata": {
        "id": "Y3XsPcWC2EJy"
      },
      "source": [
        ""
      ],
      "execution_count": null,
      "outputs": []
    }
  ]
}